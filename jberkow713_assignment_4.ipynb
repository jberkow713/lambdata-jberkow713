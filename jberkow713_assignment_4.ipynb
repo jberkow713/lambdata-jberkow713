{
  "nbformat": 4,
  "nbformat_minor": 0,
  "metadata": {
    "colab": {
      "name": "jberkow713 assignment 4.ipynb",
      "provenance": [],
      "collapsed_sections": [],
      "authorship_tag": "ABX9TyNx9kIUsQeGSDt1rwjjr8Ps",
      "include_colab_link": true
    },
    "kernelspec": {
      "name": "python3",
      "display_name": "Python 3"
    }
  },
  "cells": [
    {
      "cell_type": "markdown",
      "metadata": {
        "id": "view-in-github",
        "colab_type": "text"
      },
      "source": [
        "<a href=\"https://colab.research.google.com/github/jberkow713/lambdata-jberkow713/blob/master/jberkow713_assignment_4.ipynb\" target=\"_parent\"><img src=\"https://colab.research.google.com/assets/colab-badge.svg\" alt=\"Open In Colab\"/></a>"
      ]
    },
    {
      "cell_type": "code",
      "metadata": {
        "id": "23BF90m40CfU",
        "colab_type": "code",
        "colab": {
          "base_uri": "https://localhost:8080/",
          "height": 109
        },
        "outputId": "cc1a61f1-9340-4b49-e2d7-8f4d9b507b2b"
      },
      "source": [
        "pip install -i https://test.pypi.org/simple/ lambdata-jberkow713==1.3"
      ],
      "execution_count": 1,
      "outputs": [
        {
          "output_type": "stream",
          "text": [
            "Looking in indexes: https://test.pypi.org/simple/\n",
            "Collecting lambdata-jberkow713==1.3\n",
            "  Downloading https://test-files.pythonhosted.org/packages/2c/d7/d01ae5bd1546a044957a2fc70b9e93ed16a0043c001b7057e916a4903496/lambdata_jberkow713-1.3-py3-none-any.whl\n",
            "Installing collected packages: lambdata-jberkow713\n",
            "Successfully installed lambdata-jberkow713-1.3\n"
          ],
          "name": "stdout"
        }
      ]
    },
    {
      "cell_type": "code",
      "metadata": {
        "id": "CM35ejQP0D1G",
        "colab_type": "code",
        "colab": {}
      },
      "source": [
        "from lambdata_jberkow713 import my_mod\n",
        "import math\n",
        "import pandas as pd\n",
        "import numpy as np"
      ],
      "execution_count": 0,
      "outputs": []
    },
    {
      "cell_type": "code",
      "metadata": {
        "id": "qiIksbtn6aBe",
        "colab_type": "code",
        "colab": {}
      },
      "source": [
        "#This is the shrink function I created "
      ],
      "execution_count": 0,
      "outputs": []
    },
    {
      "cell_type": "code",
      "metadata": {
        "id": "dvZ98Vkp0D33",
        "colab_type": "code",
        "colab": {
          "base_uri": "https://localhost:8080/",
          "height": 35
        },
        "outputId": "5ddc5551-087c-4031-e1de-e02eda24bfcc"
      },
      "source": [
        "from lambdata_jberkow713.my_mod import shrink\n",
        "shrink(7)"
      ],
      "execution_count": 4,
      "outputs": [
        {
          "output_type": "execute_result",
          "data": {
            "text/plain": [
              "0.02040816326530612"
            ]
          },
          "metadata": {
            "tags": []
          },
          "execution_count": 4
        }
      ]
    },
    {
      "cell_type": "code",
      "metadata": {
        "id": "lxRELqJU05Bd",
        "colab_type": "code",
        "colab": {}
      },
      "source": [
        "#The shrink function takes a number(n) and multiplies it by 1/n **3\n",
        "#This next test function tests for this, and works in VS-Code"
      ],
      "execution_count": 0,
      "outputs": []
    },
    {
      "cell_type": "code",
      "metadata": {
        "id": "_wDCDtTV0D6M",
        "colab_type": "code",
        "colab": {}
      },
      "source": [
        "\n",
        "#import unittest\n",
        "\n",
        "#from lambdata_jberkow713.my_mod import shrink\n",
        "\n",
        "#class Testshrink(unittest.TestCase):\n",
        "\n",
        " #   def Testshrink(self):\n",
        "  #      self.assertEqual(shrink(5), .04)\n",
        "\n",
        "    \n",
        "#if __name__ == \"__main__\":\n",
        " #   unittest.main()"
      ],
      "execution_count": 0,
      "outputs": []
    },
    {
      "cell_type": "code",
      "metadata": {
        "id": "WUJ7ayiV0asg",
        "colab_type": "code",
        "colab": {
          "base_uri": "https://localhost:8080/",
          "height": 55
        },
        "outputId": "243ee6b7-cca3-435c-f306-a392bd2c65fa"
      },
      "source": [
        "'''\n",
        "MIT License\n",
        "\n",
        "Copyright (c) 2020 jberkow713.github.io\n",
        "\n",
        "Permission is hereby granted, free of charge, to any person obtaining a copy\n",
        "of this software and associated documentation files (the \"Software\"), to deal\n",
        "in the Software without restriction, including without limitation the rights\n",
        "to use, copy, modify, merge, publish, distribute, sublicense, and/or sell\n",
        "copies of the Software, and to permit persons to whom the Software is\n",
        "furnished to do so, subject to the following conditions:\n",
        "\n",
        "The above copyright notice and this permission notice shall be included in all\n",
        "copies or substantial portions of the Software.\n",
        "\n",
        "THE SOFTWARE IS PROVIDED \"AS IS\", WITHOUT WARRANTY OF ANY KIND, EXPRESS OR\n",
        "IMPLIED, INCLUDING BUT NOT LIMITED TO THE WARRANTIES OF MERCHANTABILITY,\n",
        "FITNESS FOR A PARTICULAR PURPOSE AND NONINFRINGEMENT. IN NO EVENT SHALL THE\n",
        "AUTHORS OR COPYRIGHT HOLDERS BE LIABLE FOR ANY CLAIM, DAMAGES OR OTHER\n",
        "LIABILITY, WHETHER IN AN ACTION OF CONTRACT, TORT OR OTHERWISE, ARISING FROM,\n",
        "OUT OF OR IN CONNECTION WITH THE SOFTWARE OR THE USE OR OTHER DEALINGS IN THE\n",
        "SOFTWARE.\n",
        "\n",
        "'''"
      ],
      "execution_count": 7,
      "outputs": [
        {
          "output_type": "execute_result",
          "data": {
            "text/plain": [
              "'\\nMIT License\\n\\nCopyright (c) 2020 jberkow713.github.io\\n\\nPermission is hereby granted, free of charge, to any person obtaining a copy\\nof this software and associated documentation files (the \"Software\"), to deal\\nin the Software without restriction, including without limitation the rights\\nto use, copy, modify, merge, publish, distribute, sublicense, and/or sell\\ncopies of the Software, and to permit persons to whom the Software is\\nfurnished to do so, subject to the following conditions:\\n\\nThe above copyright notice and this permission notice shall be included in all\\ncopies or substantial portions of the Software.\\n\\nTHE SOFTWARE IS PROVIDED \"AS IS\", WITHOUT WARRANTY OF ANY KIND, EXPRESS OR\\nIMPLIED, INCLUDING BUT NOT LIMITED TO THE WARRANTIES OF MERCHANTABILITY,\\nFITNESS FOR A PARTICULAR PURPOSE AND NONINFRINGEMENT. IN NO EVENT SHALL THE\\nAUTHORS OR COPYRIGHT HOLDERS BE LIABLE FOR ANY CLAIM, DAMAGES OR OTHER\\nLIABILITY, WHETHER IN AN ACTION OF CONTRACT, TORT OR OTHERWISE, ARISING FROM,\\nOUT OF OR IN CONNECTION WITH THE SOFTWARE OR THE USE OR OTHER DEALINGS IN THE\\nSOFTWARE.\\n\\n'"
            ]
          },
          "metadata": {
            "tags": []
          },
          "execution_count": 7
        }
      ]
    },
    {
      "cell_type": "code",
      "metadata": {
        "id": "M3UYYtgf02cg",
        "colab_type": "code",
        "colab": {
          "base_uri": "https://localhost:8080/",
          "height": 55
        },
        "outputId": "be5fe607-ceb3-4f1c-b915-2eb4c8b20c23"
      },
      "source": [
        "# lambdata-jberkow713 Readme\n",
        "'''\n",
        "This lambdata_jberkow713 file contains various invented mathematical functions in the my_mod.py file, \n",
        "and a Golf Class, in the golf.py folder,  used to predict the distance golf balls travel based on various factors. \n",
        "There are also various testing functions to be used on the Golf Class, as well as on the other math functions such as Shrink.\n",
        "'''\n"
      ],
      "execution_count": 9,
      "outputs": [
        {
          "output_type": "execute_result",
          "data": {
            "text/plain": [
              "'\\nThis lambdata_jberkow713 file contains various invented mathematical functions in the my_mod.py file, \\nand a Golf Class, in the golf.py folder,  used to predict the distance golf balls travel based on various factors. \\nThere are also various testing functions to be used on the Golf Class, as well as on the other math functions such as Shrink.\\n'"
            ]
          },
          "metadata": {
            "tags": []
          },
          "execution_count": 9
        }
      ]
    }
  ]
}